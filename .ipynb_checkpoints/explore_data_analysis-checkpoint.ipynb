{
 "cells": [
  {
   "cell_type": "markdown",
   "metadata": {
    "vscode": {
     "languageId": "plaintext"
    }
   },
   "source": [
    "# Analise exploratoire des données"
   ]
  },
  {
   "cell_type": "code",
   "execution_count": null,
   "metadata": {
    "ExecuteTime": {
     "end_time": "2024-12-27T00:19:01.018778Z",
     "start_time": "2024-12-27T00:19:00.487923Z"
    }
   },
   "outputs": [],
   "source": [
    "import os\n",
    "import glob\n",
    "import pandas as pd\n",
    "from datetime import datetime\n",
    "import seaborn as sns\n",
    "import matplotlib.pyplot as plt\n",
    "\n",
    "# Obtenir la date actuelle au format YYYYMMDD\n",
    "current_date = datetime.now().strftime(\"%Y%m%d\")\n",
    "\n",
    "# Spécifier le chemin du dossier \"backup\"\n",
    "backup_dir = 'backup'\n",
    "\n",
    "# Vérifier si le dossier \"backup\" existe\n",
    "if not os.path.exists(backup_dir):\n",
    "    print(f\"Le dossier {backup_dir} n'existe pas. Veuillez le créer et y ajouter des fichiers.\")\n",
    "    exit()\n",
    "\n",
    "# Rechercher tous les fichiers correspondant au format \"properties_db_*.csv\" dans le dossier backup\n",
    "file_pattern = os.path.join(backup_dir, \"properties_db_*.csv\")\n",
    "files = glob.glob(file_pattern)\n",
    "\n",
    "if files:\n",
    "    # Filtrer pour trouver un fichier de la date courante ou le plus récent\n",
    "    current_date_pattern = os.path.join(backup_dir, f\"properties_db_{current_date}.csv\")\n",
    "    if current_date_pattern in files:\n",
    "        latest_file = current_date_pattern\n",
    "        print(f\"Fichier correspondant à la date courante trouvé : {latest_file}\")\n",
    "    else:\n",
    "        # Si aucun fichier pour la date courante, sélectionner le fichier le plus récent\n",
    "        latest_file = max(files, key=os.path.getmtime)\n",
    "        print(f\"Aucun fichier pour la date courante. Dernier fichier disponible : {latest_file}\")\n",
    "\n",
    "    # Charger le fichier CSV dans un DataFrame\n",
    "    try:\n",
    "        df_properties = pd.read_csv(latest_file)\n",
    "        print(\"Fichier importé avec succès.\")\n",
    "        print(df_properties.info())  # Informations sur le DataFrame\n",
    "    except Exception as e:\n",
    "        print(f\"Erreur lors de la lecture du fichier {latest_file}: {e}\")\n",
    "else:\n",
    "    print(\"Aucun fichier disponible dans le dossier 'backup'.\")"
   ]
  },
  {
   "cell_type": "markdown",
   "metadata": {},
   "source": [
    "## Répartition des types de propriétés"
   ]
  },
  {
   "cell_type": "markdown",
   "metadata": {},
   "source": [
    "Afficher la répartition des propriétés en fonction de leur type :"
   ]
  },
  {
   "cell_type": "code",
   "execution_count": null,
   "metadata": {
    "ExecuteTime": {
     "end_time": "2024-12-27T00:19:01.223532Z",
     "start_time": "2024-12-27T00:19:01.023177Z"
    }
   },
   "outputs": [],
   "source": [
    "# Compter le nombre de propriétés par type\n",
    "property_type_counts = df_properties['type'].value_counts()\n",
    "\n",
    "# Afficher les résultats\n",
    "print(property_type_counts)\n",
    "\n",
    "# Visualiser avec un graphique en secteurs\n",
    "import matplotlib.pyplot as plt\n",
    "\n",
    "property_type_counts.plot(kind='pie', autopct='%1.1f%%', figsize=(8, 8), title='Répartition des propriétés par type')\n",
    "plt.ylabel('')\n",
    "plt.show()"
   ]
  },
  {
   "cell_type": "markdown",
   "metadata": {},
   "source": []
  },
  {
   "cell_type": "code",
   "execution_count": null,
   "metadata": {},
   "outputs": [],
   "source": [
    "property_type_counts.index"
   ]
  },
  {
   "cell_type": "code",
   "execution_count": null,
   "metadata": {},
   "outputs": [],
   "source": [
    "# Dictionnaire de mappage pour regrouper les types de propriétés similaires\n",
    "type_vers_categorie = {\n",
    "    # Appartement/Condo\n",
    "    \"Condo\": \"Appartement/Condo\",\n",
    "    \"Maison en copropriété\": \"Appartement/Condo\",\n",
    "    \"Condo for sale\": \"Appartement/Condo\",\n",
    "    \"Condominium house for sale\": \"Appartement/Condo\",\n",
    "    \"Loft / Studio for sale\": \"Appartement/Condo\",\n",
    "    \n",
    "    # Autres\n",
    "    \"Inconnu\": \"Autres\",\n",
    "    \n",
    "    # Fermes et propriétés agricoles\n",
    "    \"Fermette\": \"Fermes et propriétés agricoles\",\n",
    "    \"Ferme\": \"Fermes et propriétés agricoles\",\n",
    "    \"Hobby farm for sale\": \"Fermes et propriétés agricoles\",\n",
    "    \n",
    "    # Maison individuelle\n",
    "    \"Maison\": \"Maison individuelle\",\n",
    "    \"Chalet\": \"Maison individuelle\",\n",
    "    \"Cottage for sale\": \"Maison individuelle\",\n",
    "    \"Maison mobile\": \"Maison individuelle\",\n",
    "    \"Mobile home for sale\": \"Maison individuelle\",\n",
    "    \n",
    "    # Multilogement\n",
    "    \"Duplex\": \"Multilogement\",\n",
    "    \"Triplex\": \"Multilogement\",\n",
    "    \"Quadruplex\": \"Multilogement\",\n",
    "    \"Quintuplex\": \"Multilogement\",\n",
    "    \"Duplex for sale\": \"Multilogement\",\n",
    "    \"Triplex for sale\": \"Multilogement\",\n",
    "    \"Quadruplex for sale\": \"Multilogement\",\n",
    "    \"Quintuplex for sale\": \"Multilogement\",\n",
    "    \n",
    "    # Terrain\n",
    "    \"Lot for sale\": \"Terrain\",\n",
    "    \"Terrain\": \"Terrain\",\n",
    "    \"Land for sale\": \"Terrain\",\n",
    "    \"Terre\": \"Terrain\",\n",
    "}\n",
    "\n",
    "# Fonction pour mapper les types de propriétés en catégories\n",
    "# Appliquer le mappage pour regrouper les types de propriétés en catégories\n",
    "df_properties['category'] = df_properties['type'].map(type_vers_categorie).fillna('Autres')\n",
    "\n",
    "# Vérifier les résultats\n",
    "print(df_properties['category'].value_counts())"
   ]
  },
  {
   "cell_type": "markdown",
   "metadata": {},
   "source": [
    "### Vérifier la répartition par catégorie\n",
    "\n",
    "Après regroupement, afficher la répartition des catégories principales :"
   ]
  },
  {
   "cell_type": "code",
   "execution_count": null,
   "metadata": {
    "ExecuteTime": {
     "end_time": "2024-12-27T00:19:01.489903Z",
     "start_time": "2024-12-27T00:19:01.318597Z"
    }
   },
   "outputs": [],
   "source": [
    "# Répartition par catégorie\n",
    "category_counts = df_properties['category'].value_counts()\n",
    "\n",
    "print(category_counts)\n",
    "\n",
    "# Visualisation\n",
    "category_counts.plot(kind='bar', figsize=(10, 6), title=\"Répartition des propriétés par catégorie\", color='skyblue')\n",
    "plt.ylabel(\"Nombre de propriétés\")\n",
    "plt.xlabel(\"Catégorie\")\n",
    "plt.show()"
   ]
  },
  {
   "cell_type": "markdown",
   "metadata": {},
   "source": [
    "### Répartition des propriétés par région"
   ]
  },
  {
   "cell_type": "code",
   "execution_count": null,
   "metadata": {
    "ExecuteTime": {
     "end_time": "2024-12-27T00:19:01.681951Z",
     "start_time": "2024-12-27T00:19:01.491610Z"
    }
   },
   "outputs": [],
   "source": [
    "# Répartition par catégorie\n",
    "category_counts = df_properties['category'].value_counts()\n",
    "\n",
    "print(category_counts)\n",
    "\n",
    "# Visualisation\n",
    "category_counts.plot(kind='bar', figsize=(10, 6), title=\"Répartition des propriétés par catégorie\", color='skyblue')\n",
    "plt.ylabel(\"Nombre de propriétés\")\n",
    "plt.xlabel(\"Catégorie\")\n",
    "plt.show()"
   ]
  },
  {
   "cell_type": "markdown",
   "metadata": {},
   "source": [
    "### Proportion des propriétés par région (en %)"
   ]
  },
  {
   "cell_type": "code",
   "execution_count": null,
   "metadata": {
    "ExecuteTime": {
     "end_time": "2024-12-27T00:19:01.710661Z",
     "start_time": "2024-12-27T00:19:01.685266Z"
    }
   },
   "outputs": [],
   "source": [
    "# Calculer le nombre de propriétés par région\n",
    "region_distribution = df_properties['region'].value_counts()\n",
    "\n",
    "# Afficher les résultats\n",
    "print(region_distribution)\n",
    "\n",
    "# Graphique en barres\n",
    "region_distribution.plot(kind='bar', figsize=(12, 6), color='skyblue', title=\"Répartition des propriétés par région\")\n",
    "plt.ylabel(\"Nombre de propriétés\")\n",
    "plt.xlabel(\"Région\")\n",
    "plt.xticks(rotation=45)\n",
    "plt.show()"
   ]
  },
  {
   "cell_type": "code",
   "execution_count": null,
   "metadata": {
    "ExecuteTime": {
     "end_time": "2024-12-27T00:19:01.710661Z",
     "start_time": "2024-12-27T00:19:01.685266Z"
    }
   },
   "outputs": [],
   "source": [
    "# Proportion en %\n",
    "region_distribution_percentage = (region_distribution / region_distribution.sum()) * 100\n",
    "\n",
    "# Afficher les résultats\n",
    "print(region_distribution_percentage)"
   ]
  },
  {
   "cell_type": "code",
   "execution_count": null,
   "metadata": {
    "ExecuteTime": {
     "end_time": "2024-12-27T00:19:01.902772Z",
     "start_time": "2024-12-27T00:19:01.719995Z"
    }
   },
   "outputs": [],
   "source": [
    "# Graphique en camembert\n",
    "region_distribution_percentage.plot(kind='pie', figsize=(8, 8), autopct='%1.1f%%', title=\"Proportion des propriétés par région\")\n",
    "plt.ylabel(\"\")  # Supprimer l'étiquette \"region\"\n",
    "plt.show()"
   ]
  },
  {
   "cell_type": "markdown",
   "metadata": {},
   "source": [
    "### Ditribution des catégories de propriétés par region"
   ]
  },
  {
   "cell_type": "code",
   "execution_count": null,
   "metadata": {
    "ExecuteTime": {
     "end_time": "2024-12-27T00:19:01.939036Z",
     "start_time": "2024-12-27T00:19:01.905593Z"
    }
   },
   "outputs": [],
   "source": [
    "# Tableau croisé dynamique pour observer les catégories dans chaque région\n",
    "region_category_distribution = pd.crosstab(df_properties['region'], df_properties['category'])\n",
    "\n",
    "# Afficher les résultats\n",
    "#print(region_category_distribution)\n",
    "\n",
    "# Exporter la distribution par région\n",
    "region_distribution.to_csv(\"region_distribution.csv\", index=True)\n",
    "region_category_distribution.to_csv(\"region_category_distribution.csv\")\n",
    "print(\"Répartition des catégories par région exportée dans 'region_category_distribution.csv'.\")\n",
    "\n",
    "# Créer une heatmap\n",
    "plt.figure(figsize=(10, 6))\n",
    "sns.heatmap(region_category_distribution, annot=True, fmt=\"d\", cmap=\"YlGnBu\", cbar_kws={\"label\": \"Nombre de propriétés\"})\n",
    "plt.title(\"Répartition des catégories par région\")\n",
    "plt.xlabel(\"Catégorie\")\n",
    "plt.ylabel(\"Région\")\n",
    "plt.xticks(rotation=45, ha=\"right\")\n",
    "plt.tight_layout()\n",
    "\n",
    "# Afficher le graphique\n",
    "plt.show()"
   ]
  },
  {
   "cell_type": "markdown",
   "metadata": {},
   "source": [
    "### Ditribution des catégories de propriétés sur le marché par region"
   ]
  },
  {
   "cell_type": "code",
   "execution_count": null,
   "metadata": {},
   "outputs": [],
   "source": [
    "# Filtrer les propriétés en vente (non vendues)\n",
    "properties_for_sale = df_properties[df_properties['vendue'] == False]\n",
    "\n",
    "# Tableau croisé dynamique pour observer les catégories dans chaque région\n",
    "region_category_distribution_on_sale = pd.crosstab(properties_for_sale['region'], properties_for_sale['category'])\n",
    "\n",
    "# Afficher les résultats\n",
    "#print(region_category_distribution)\n",
    "\n",
    "region_category_distribution_on_sale.to_csv(\"region_category_distribution.csv\")\n",
    "print(\"Répartition des catégories par région exportée dans 'region_category_distribution.csv'.\")\n",
    "\n",
    "# Préparer les données pour le graphique en barres empilées\n",
    "region_category_distribution.plot(\n",
    "    kind='bar', \n",
    "    stacked=True, \n",
    "    figsize=(12, 6), \n",
    "    colormap='viridis'\n",
    ")\n",
    "\n",
    "# Ajouter des labels et un titre\n",
    "plt.title(\"Répartition des catégories par région (Propriétés en vente)\", fontsize=16)\n",
    "plt.xlabel(\"Région\", fontsize=12)\n",
    "plt.ylabel(\"Nombre de propriétés\", fontsize=12)\n",
    "plt.xticks(rotation=45, ha=\"right\")\n",
    "plt.legend(title=\"Catégorie\", bbox_to_anchor=(1.05, 1), loc='upper left')\n",
    "plt.tight_layout()\n",
    "\n",
    "# Afficher le graphique\n",
    "plt.show()\n"
   ]
  },
  {
   "cell_type": "code",
   "execution_count": null,
   "metadata": {},
   "outputs": [],
   "source": [
    "# Extraire l'année à partir d'une colonne de type date (par exemple, 'date_ajout')\n",
    "df_properties['year_added'] = pd.to_datetime(df_properties['add_date']).dt.year\n",
    "\n",
    "# Tableau croisé dynamique pour observer les régions par année\n",
    "yearly_region_distribution = pd.crosstab(df_properties['year_added'], df_properties['region'])\n",
    "\n",
    "# Afficher les résultats\n",
    "#print(yearly_region_distribution)\n",
    "\n",
    "# Exporter les données\n",
    "yearly_region_distribution.to_csv(\"yearly_region_distribution.csv\")\n",
    "print(\"Répartition des propriétés par région et année exportée dans 'yearly_region_distribution.csv'.\")\n",
    "\n",
    "# Visualisation avec une Heatmap\n",
    "plt.figure(figsize=(12, 8))\n",
    "sns.heatmap(\n",
    "    yearly_region_distribution, \n",
    "    annot=True, \n",
    "    fmt=\"d\", \n",
    "    cmap=\"YlGnBu\", \n",
    "    linewidths=0.5, \n",
    "    cbar_kws={\"label\": \"Nombre de propriétés\"}\n",
    ")\n",
    "\n",
    "# Ajouter des labels et un titre\n",
    "plt.title(\"Carte thermique : Répartition des propriétés par région et année\", fontsize=16)\n",
    "plt.xlabel(\"Région\", fontsize=12)\n",
    "plt.ylabel(\"Année\", fontsize=12)\n",
    "plt.xticks(rotation=45, ha=\"right\")\n",
    "plt.tight_layout()\n",
    "\n",
    "# Afficher le graphique\n",
    "plt.show()"
   ]
  },
  {
   "cell_type": "code",
   "execution_count": null,
   "metadata": {},
   "outputs": [],
   "source": [
    "# Extraire l'année à partir d'une colonne de type date (par exemple, 'date_ajout')\n",
    "df_properties['year_added'] = pd.to_datetime(df_properties['add_date']).dt.year\n",
    "\n",
    "# Tableau croisé dynamique pour observer les régions, catégories et années\n",
    "yearly_region_category_distribution = pd.crosstab([df_properties['year_added'], df_properties['region']], df_properties['category'])\n",
    "\n",
    "# Afficher les résultats\n",
    "#print(yearly_region_category_distribution)\n",
    "\n",
    "# Exporter les données\n",
    "yearly_region_category_distribution.to_csv(\"yearly_region_category_distribution.csv\")\n",
    "print(\"Répartition des propriétés par région, année et catégorie exportée dans 'yearly_region_category_distribution.csv'.\")\n",
    "\n",
    "# Visualisation avec une Heatmap\n",
    "plt.figure(figsize=(14, 8))\n",
    "sns.heatmap(\n",
    "    yearly_region_category_distribution, \n",
    "    annot=True, \n",
    "    fmt=\"d\", \n",
    "    cmap=\"YlGnBu\", \n",
    "    linewidths=0.5, \n",
    "    cbar_kws={\"label\": \"Nombre de propriétés\"}\n",
    ")\n",
    "\n",
    "# Ajouter des labels et un titre\n",
    "plt.title(\"Carte thermique : Répartition des propriétés par région, année et catégorie\", fontsize=16)\n",
    "plt.xlabel(\"Catégorie\", fontsize=12)\n",
    "plt.ylabel(\"Année et Région\", fontsize=12)\n",
    "plt.xticks(rotation=45, ha=\"right\")\n",
    "plt.tight_layout()\n",
    "\n",
    "# Afficher le graphique\n",
    "plt.show()"
   ]
  },
  {
   "cell_type": "code",
   "execution_count": null,
   "metadata": {},
   "outputs": [],
   "source": [
    "# Réinitialiser l'index pour convertir le tableau croisé en DataFrame utilisable\n",
    "yearly_region_category_distribution = yearly_region_category_distribution.reset_index()\n",
    "\n",
    "# Création du graphique\n",
    "plt.figure(figsize=(16, 8))\n",
    "\n",
    "# Graphique en barres empilées groupées\n",
    "categories = yearly_region_category_distribution.columns[2:]  # Colonnes des catégories\n",
    "regions = yearly_region_category_distribution['region'].unique()\n",
    "years = yearly_region_category_distribution['year_added'].unique()\n",
    "\n",
    "bar_width = 0.15  # Largeur de chaque barre\n",
    "x_positions = np.arange(len(years))  # Positions des années sur l'axe X\n",
    "\n",
    "# Boucle pour chaque région et catégorie\n",
    "for i, region in enumerate(regions):\n",
    "    subset = yearly_region_category_distribution[yearly_region_category_distribution['region'] == region]\n",
    "    bottom_value = np.zeros(len(years))\n",
    "    for category in categories:\n",
    "        values = subset[category].values if category in subset.columns else np.zeros(len(years))\n",
    "        plt.bar(\n",
    "            x_positions + i * bar_width,  # Décalage des régions\n",
    "            values, \n",
    "            bar_width,\n",
    "            bottom=bottom_value, \n",
    "            label=f\"{region} - {category}\" if i == 0 else \"\", \n",
    "        )\n",
    "        bottom_value += values\n",
    "\n",
    "# Ajouter des labels et un titre\n",
    "plt.title(\"Évolution des propriétés par région, année et catégorie\", fontsize=16)\n",
    "plt.xlabel(\"Année\", fontsize=12)\n",
    "plt.ylabel(\"Nombre de propriétés\", fontsize=12)\n",
    "plt.xticks(x_positions + bar_width * (len(regions) - 1) / 2, years, rotation=45, ha=\"right\")\n",
    "plt.legend(loc=\"upper left\", bbox_to_anchor=(1.05, 1), title=\"Région et Catégorie\")\n",
    "plt.tight_layout()\n",
    "\n",
    "# Afficher le graphique\n",
    "plt.show()"
   ]
  },
  {
   "cell_type": "markdown",
   "metadata": {},
   "source": [
    "### Explorer les caractéristiques des propriétés dans une région spécifique"
   ]
  },
  {
   "cell_type": "markdown",
   "metadata": {},
   "source": []
  },
  {
   "cell_type": "code",
   "execution_count": null,
   "metadata": {},
   "outputs": [],
   "source": [
    "# Filtrer les propriétés pour une région spécifique\n",
    "region= 'Mauricie'\n",
    "region_specific = df_properties[df_properties['region'] == region]\n",
    "\n",
    "# Statistiques descriptives\n",
    "print(region_specific.describe())\n",
    "\n",
    "# Répartition des types de propriétés dans cette région\n",
    "type_distribution_in_region = region_specific['category'].value_counts()\n",
    "print(type_distribution_in_region)\n",
    "\n",
    "# Visualisation\n",
    "type_distribution_in_region.plot(kind='bar', figsize=(10, 6), color='orange', title=f\"Répartition des catégories à {region}\")\n",
    "plt.ylabel(\"Nombre de propriétés\")\n",
    "plt.xlabel(\"Catégorie\")\n",
    "plt.xticks(rotation=45)\n",
    "plt.show()"
   ]
  },
  {
   "cell_type": "markdown",
   "metadata": {},
   "source": [
    "### Exporter la distribution pour la région"
   ]
  },
  {
   "cell_type": "code",
   "execution_count": null,
   "metadata": {},
   "outputs": [],
   "source": [
    "# Filtrer les propriétés pour une région spécifique\n",
    "region= 'Mauricie'\n",
    "region_specific = df_properties[df_properties['region'] == region]\n",
    "\n",
    "# Statistiques descriptives\n",
    "print(region_specific.describe())\n",
    "\n",
    "# Répartition des types de propriétés dans cette région\n",
    "type_distribution_in_region = region_specific['category'].value_counts()\n",
    "print(type_distribution_in_region)\n",
    "\n",
    "# Visualisation\n",
    "type_distribution_in_region.plot(kind='bar', figsize=(10, 6), color='orange', title=f\"Répartition des catégories à {region}\")\n",
    "plt.ylabel(\"Nombre de propriétés\")\n",
    "plt.xlabel(\"Catégorie\")\n",
    "plt.xticks(rotation=45)\n",
    "plt.show()"
   ]
  },
  {
   "cell_type": "markdown",
   "metadata": {},
   "source": [
    "### Analysons une catégorie spécifique dans une région particulière, voici une démarche détaillée. Prenons comme exemple la région \"***Montréal (Île)***\" et la catégorie \"***Appartement/condo***\" :"
   ]
  },
  {
   "cell_type": "code",
   "execution_count": null,
   "metadata": {},
   "outputs": [],
   "source": [
    "# Exporter la distribution par région\n",
    "region_distribution.to_csv(f\"region_{region}_distribution.csv\", index=True)\n",
    "# Exporter la distribution par région et par catégorie\n",
    "region_category_distribution.to_csv(\"region_category_distribution.csv\")\n",
    "\n",
    "print(f\"Données exportées dans 'region_{region}_distribution.csv' et 'region_{region}_category_distribution.csv'.\")"
   ]
  },
  {
   "cell_type": "markdown",
   "metadata": {},
   "source": [
    "### Statistiques descriptives pour cette catégorie dans la région"
   ]
  },
  {
   "cell_type": "code",
   "execution_count": null,
   "metadata": {},
   "outputs": [],
   "source": [
    "# Définir la région et la catégorie\n",
    "region_name = region  # Remplacez par la région souhaitée\n",
    "category_name = \"Multilogement\"  # Remplacez par la catégorie souhaitée\n",
    "\n",
    "# Filtrer les données\n",
    "filtered_data = df_properties[(df_properties['region'] == region_name) & (df_properties['category'] == category_name)]\n",
    "\n",
    "# Afficher les premières lignes et le nombre total\n",
    "print(filtered_data.head())\n",
    "print(f\"Nombre total de propriétés pour la catégorie '{category_name}' dans la région '{region_name}' : {len(filtered_data)}\")"
   ]
  },
  {
   "cell_type": "markdown",
   "metadata": {},
   "source": [
    "#### Uniformiser les données dans la colonne"
   ]
  },
  {
   "cell_type": "code",
   "execution_count": null,
   "metadata": {},
   "outputs": [],
   "source": [
    "# Statistiques descriptives pour les colonnes numériques\n",
    "stats = filtered_data[['price', 'surface', 'municipal_taxes', 'school_taxes', 'construction_year', 'nb_bedroom', 'nb_bathroom']].describe()\n",
    "\n",
    "# Afficher les statistiques descriptives\n",
    "print(stats)"
   ]
  },
  {
   "cell_type": "code",
   "execution_count": null,
   "metadata": {},
   "outputs": [],
   "source": [
    "# Convertir toutes les valeurs en booléen\n",
    "filtered_data['vendue'] = filtered_data['vendue'].map(lambda x: str(x).lower() == 'true')\n",
    "\n",
    "# Vérifier les valeurs uniques après la conversion\n",
    "print(filtered_data['vendue'].unique())"
   ]
  },
  {
   "cell_type": "code",
   "execution_count": null,
   "metadata": {},
   "outputs": [],
   "source": [
    "filtered_data['vendue'].unique()"
   ]
  },
  {
   "cell_type": "code",
   "execution_count": null,
   "metadata": {},
   "outputs": [],
   "source": [
    "# Convertir toutes les valeurs en booléen\n",
    "filtered_data['vendue'] = filtered_data['vendue'].map(lambda x: str(x).lower() == 'true')\n",
    "\n",
    "# Vérifier les valeurs uniques après la conversion\n",
    "print(filtered_data['vendue'].unique())"
   ]
  },
  {
   "cell_type": "code",
   "execution_count": null,
   "metadata": {},
   "outputs": [],
   "source": [
    "# Filtrer les propriétés situées à Montréal et non vendues\n",
    "montreal_data = filtered_data[\n",
    "    (df_properties['vendue'] == False)# Propriétés non vendues\n",
    "]\n",
    "\n",
    "# Afficher un aperçu des données filtrées\n",
    "print(f\"Nombre de propriétés en vente sur l'île de Montréal : {len(montreal_data)}\")\n",
    "print(montreal_data.head())"
   ]
  },
  {
   "cell_type": "code",
   "execution_count": null,
   "metadata": {},
   "outputs": [],
   "source": [
    "# Répartition des propriétés vendues ou non\n",
    "vendue_counts = filtered_data['vendue'].value_counts()\n",
    "\n",
    "# Afficher les résultats\n",
    "print(vendue_counts)\n",
    "\n",
    "# Graphique en barres\n",
    "vendue_counts.plot(kind='bar', figsize=(8, 6), color=['green', 'red'], title=f\"Répartition des propriétés vendues pour '{category_name}' à {region_name}\")\n",
    "plt.ylabel(\"Nombre de propriétés\")\n",
    "plt.xlabel(\"Statut (Vendue ou Non)\")\n",
    "plt.xticks(rotation=0)\n",
    "plt.show()"
   ]
  },
  {
   "cell_type": "code",
   "execution_count": null,
   "metadata": {},
   "outputs": [],
   "source": [
    "# Filtrer les propriétés situées à Montréal et non vendues\n",
    "montreal_data = filtered_data[\n",
    "    (df_properties['vendue'] == False)# Propriétés non vendues\n",
    "]\n",
    "\n",
    "# Afficher un aperçu des données filtrées\n",
    "print(f\"Nombre de propriétés en vente sur l'île de Montréal : {len(montreal_data)}\")\n",
    "print(montreal_data.head())"
   ]
  },
  {
   "cell_type": "markdown",
   "metadata": {},
   "source": [
    "### Variation des prix d'année en année"
   ]
  },
  {
   "cell_type": "code",
   "execution_count": null,
   "metadata": {},
   "outputs": [],
   "source": [
    "# Distribution des prix\n",
    "plt.figure(figsize=(10, 6))\n",
    "plt.hist(filtered_data['price'], bins=40, color='skyblue', edgecolor='black')\n",
    "plt.title(f\"Distribution des prix pour '{category_name}' à {region_name}\")\n",
    "plt.xlabel(\"Prix ($)\")\n",
    "plt.ylabel(\"Nombre de propriétés\")\n",
    "plt.show()"
   ]
  },
  {
   "cell_type": "markdown",
   "metadata": {},
   "source": [
    "### Calculer le prix moyen par année"
   ]
  },
  {
   "cell_type": "code",
   "execution_count": null,
   "metadata": {},
   "outputs": [],
   "source": [
    "# Extraire l'année et le mois de la colonne add_date\n",
    "filtered_data['year'] = pd.to_datetime(filtered_data['add_date']).dt.year\n",
    "\n",
    "filtered_data['month'] = pd.to_datetime(filtered_data['add_date']).dt.month\n",
    "\n",
    "# Vérifier les premières lignes\n",
    "print(filtered_data[['add_date', 'year','month']].head())"
   ]
  },
  {
   "cell_type": "markdown",
   "metadata": {},
   "source": [
    "### Variation de la moyenne des prix"
   ]
  },
  {
   "cell_type": "code",
   "execution_count": null,
   "metadata": {},
   "outputs": [],
   "source": [
    "# Grouper par année et mois, et calculer les statistiques\n",
    "price_trends = filtered_data.groupby(['year','month'])['price'].agg(['mean', 'median', 'min', 'max', 'count']).reset_index()\n",
    "\n",
    "# Afficher les premières lignes\n",
    "print(price_trends.head())"
   ]
  },
  {
   "cell_type": "markdown",
   "metadata": {},
   "source": [
    "### Variation de la médiane des prix par année et mois"
   ]
  },
  {
   "cell_type": "code",
   "execution_count": null,
   "metadata": {},
   "outputs": [],
   "source": [
    "import seaborn as sns\n",
    "\n",
    "# Préparer les données pour un graphique temporel\n",
    "price_trends['date'] = pd.to_datetime(price_trends[['year','month']].assign(day=1))\n",
    "\n",
    "# Visualisation de la moyenne des prix\n",
    "plt.figure(figsize=(12, 6))\n",
    "sns.lineplot(data=price_trends, x='date', y='mean', marker='o', label='Prix moyen')\n",
    "plt.title('Variation du prix moyen par mois')\n",
    "plt.xlabel('Date')\n",
    "plt.ylabel('Prix moyen ($)')\n",
    "plt.grid(True)\n",
    "plt.legend()\n",
    "plt.show()"
   ]
  },
  {
   "cell_type": "markdown",
   "metadata": {},
   "source": [
    "### Afficher des indicateurs comme la médiane, le minimum et le maximum "
   ]
  },
  {
   "cell_type": "code",
   "execution_count": null,
   "metadata": {},
   "outputs": [],
   "source": [
    "# Visualisation de la médiane des prix\n",
    "plt.figure(figsize=(12, 6))\n",
    "sns.lineplot(data=price_trends, x='date', y='median', marker='o', color='orange', label='Prix médian')\n",
    "sns.lineplot(data=price_trends, x='date', y='mean', marker='o', label='Prix moyen')\n",
    "sns.lineplot(data=price_trends, x='date', y='max', marker='o', label='Prix maximum')\n",
    "sns.lineplot(data=price_trends, x='date', y='min', marker='o', label='Prix minimum')\n",
    "plt.title('Variation du prix par mois')\n",
    "plt.xlabel('Date')\n",
    "plt.ylabel('Prix médian ($)')\n",
    "plt.grid(True)\n",
    "plt.legend()\n",
    "plt.show()"
   ]
  },
  {
   "cell_type": "code",
   "execution_count": null,
   "metadata": {},
   "outputs": [],
   "source": []
  }
 ],
 "metadata": {
  "kernelspec": {
   "display_name": "Python 3 (ipykernel)",
   "language": "python",
   "name": "python3"
  },
  "language_info": {
   "codemirror_mode": {
    "name": "ipython",
    "version": 3
   },
   "file_extension": ".py",
   "mimetype": "text/x-python",
   "name": "python",
   "nbconvert_exporter": "python",
   "pygments_lexer": "ipython3",
   "version": "3.9.13"
  }
 },
 "nbformat": 4,
 "nbformat_minor": 2
}
