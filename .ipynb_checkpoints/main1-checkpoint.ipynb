{
 "cells": [
  {
   "cell_type": "code",
   "execution_count": 1,
   "id": "a9fb16cf-3a25-44ea-a6c1-4e37685096c9",
   "metadata": {},
   "outputs": [],
   "source": [
    "from lib.db import read_mongo "
   ]
  },
  {
   "cell_type": "code",
   "execution_count": 2,
   "id": "4365aba6-98fa-4c12-a824-c4ccb044a696",
   "metadata": {},
   "outputs": [],
   "source": [
    "## Recuperations des données à partir de la bd\n",
    "\n",
    "df_properties = read_mongo('real_estate_db','properties',no_id=False)\n",
    "df_properties_details = read_mongo('real_estate_db','properties_details',no_id=False)"
   ]
  },
  {
   "cell_type": "code",
   "execution_count": 3,
   "id": "64caa51d-0420-4464-b5af-a22c5c81aa4c",
   "metadata": {},
   "outputs": [
    {
     "name": "stdout",
     "output_type": "stream",
     "text": [
      "<class 'pandas.core.frame.DataFrame'>\n",
      "RangeIndex: 4345 entries, 0 to 4344\n",
      "Data columns (total 16 columns):\n",
      " #   Column        Non-Null Count  Dtype         \n",
      "---  ------        --------------  -----         \n",
      " 0   _id           4345 non-null   object        \n",
      " 1   price         4345 non-null   int64         \n",
      " 2   type          4345 non-null   object        \n",
      " 3   address       4345 non-null   object        \n",
      " 4   description   4345 non-null   object        \n",
      " 5   img_src       4345 non-null   object        \n",
      " 6   link          4345 non-null   object        \n",
      " 7   plex-revenue  4331 non-null   object        \n",
      " 8   company       4345 non-null   object        \n",
      " 9   vendue        4345 non-null   bool          \n",
      " 10  update_at     4345 non-null   object        \n",
      " 11  geolocation   4329 non-null   object        \n",
      " 12  revenu        4329 non-null   float64       \n",
      " 13  add_date      4345 non-null   datetime64[ns]\n",
      " 14  city          4345 non-null   object        \n",
      " 15  unites        4210 non-null   object        \n",
      "dtypes: bool(1), datetime64[ns](1), float64(1), int64(1), object(12)\n",
      "memory usage: 513.5+ KB\n"
     ]
    }
   ],
   "source": [
    "df_properties.info()"
   ]
  },
  {
   "cell_type": "code",
   "execution_count": 4,
   "id": "711db5c7-2eef-4642-ada9-170b33aea5e1",
   "metadata": {},
   "outputs": [
    {
     "name": "stdout",
     "output_type": "stream",
     "text": [
      "<class 'pandas.core.frame.DataFrame'>\n",
      "RangeIndex: 12145 entries, 0 to 12144\n",
      "Data columns (total 10 columns):\n",
      " #   Column                 Non-Null Count  Dtype \n",
      "---  ------                 --------------  ----- \n",
      " 0   _id                    12145 non-null  object\n",
      " 1   description            11341 non-null  object\n",
      " 2   images                 12145 non-null  object\n",
      " 3   geo                    12145 non-null  object\n",
      " 4   annee                  6973 non-null   object\n",
      " 5   superficie             6558 non-null   object\n",
      " 6   parking                5720 non-null   object\n",
      " 7   revenus_annuels_bruts  4310 non-null   object\n",
      " 8   taxes                  11222 non-null  object\n",
      " 9   unites                 4191 non-null   object\n",
      "dtypes: object(10)\n",
      "memory usage: 949.0+ KB\n"
     ]
    }
   ],
   "source": [
    "df_properties_details.info()"
   ]
  },
  {
   "cell_type": "code",
   "execution_count": 5,
   "id": "7400ab3a-1842-442c-b77e-92e0683f5436",
   "metadata": {},
   "outputs": [
    {
     "data": {
      "text/html": [
       "<div>\n",
       "<style scoped>\n",
       "    .dataframe tbody tr th:only-of-type {\n",
       "        vertical-align: middle;\n",
       "    }\n",
       "\n",
       "    .dataframe tbody tr th {\n",
       "        vertical-align: top;\n",
       "    }\n",
       "\n",
       "    .dataframe thead th {\n",
       "        text-align: right;\n",
       "    }\n",
       "</style>\n",
       "<table border=\"1\" class=\"dataframe\">\n",
       "  <thead>\n",
       "    <tr style=\"text-align: right;\">\n",
       "      <th></th>\n",
       "      <th>_id</th>\n",
       "      <th>price</th>\n",
       "      <th>type</th>\n",
       "      <th>address</th>\n",
       "      <th>description</th>\n",
       "      <th>img_src</th>\n",
       "      <th>link</th>\n",
       "      <th>plex-revenue</th>\n",
       "      <th>company</th>\n",
       "      <th>vendue</th>\n",
       "      <th>update_at</th>\n",
       "      <th>geolocation</th>\n",
       "      <th>revenu</th>\n",
       "      <th>add_date</th>\n",
       "      <th>city</th>\n",
       "      <th>unites</th>\n",
       "    </tr>\n",
       "  </thead>\n",
       "  <tbody>\n",
       "    <tr>\n",
       "      <th>0</th>\n",
       "      <td>19205127</td>\n",
       "      <td>410000</td>\n",
       "      <td>Duplex</td>\n",
       "      <td>{'street': '1Z, Rue Bouchard', 'locality': 'Sa...</td>\n",
       "      <td>Duplex à vendre à Sainte-Brigitte-de-Laval, Ca...</td>\n",
       "      <td>https://mspublic.centris.ca/media.ashx?id=ADDD...</td>\n",
       "      <td>https://www.centris.ca/fr/duplex~a-vendre~sain...</td>\n",
       "      <td>Rev. bruts pot. : 24 600 $</td>\n",
       "      <td>Centris</td>\n",
       "      <td>True</td>\n",
       "      <td>[16/02/2023]</td>\n",
       "      <td>{'type': 'Point', 'coordinates': [-71.19806539...</td>\n",
       "      <td>24600.0</td>\n",
       "      <td>2023-02-16</td>\n",
       "      <td>Sainte-Brigitte-de-Laval</td>\n",
       "      <td>NaN</td>\n",
       "    </tr>\n",
       "  </tbody>\n",
       "</table>\n",
       "</div>"
      ],
      "text/plain": [
       "        _id   price    type  \\\n",
       "0  19205127  410000  Duplex   \n",
       "\n",
       "                                             address  \\\n",
       "0  {'street': '1Z, Rue Bouchard', 'locality': 'Sa...   \n",
       "\n",
       "                                         description  \\\n",
       "0  Duplex à vendre à Sainte-Brigitte-de-Laval, Ca...   \n",
       "\n",
       "                                             img_src  \\\n",
       "0  https://mspublic.centris.ca/media.ashx?id=ADDD...   \n",
       "\n",
       "                                                link  \\\n",
       "0  https://www.centris.ca/fr/duplex~a-vendre~sain...   \n",
       "\n",
       "                 plex-revenue  company  vendue     update_at  \\\n",
       "0  Rev. bruts pot. : 24 600 $  Centris    True  [16/02/2023]   \n",
       "\n",
       "                                         geolocation   revenu   add_date  \\\n",
       "0  {'type': 'Point', 'coordinates': [-71.19806539...  24600.0 2023-02-16   \n",
       "\n",
       "                       city unites  \n",
       "0  Sainte-Brigitte-de-Laval    NaN  "
      ]
     },
     "execution_count": 5,
     "metadata": {},
     "output_type": "execute_result"
    }
   ],
   "source": [
    "df_properties.head(1)"
   ]
  },
  {
   "cell_type": "code",
   "execution_count": 6,
   "id": "e7839d00-652d-4108-92ca-be18d468c7ae",
   "metadata": {},
   "outputs": [
    {
     "data": {
      "text/html": [
       "<div>\n",
       "<style scoped>\n",
       "    .dataframe tbody tr th:only-of-type {\n",
       "        vertical-align: middle;\n",
       "    }\n",
       "\n",
       "    .dataframe tbody tr th {\n",
       "        vertical-align: top;\n",
       "    }\n",
       "\n",
       "    .dataframe thead th {\n",
       "        text-align: right;\n",
       "    }\n",
       "</style>\n",
       "<table border=\"1\" class=\"dataframe\">\n",
       "  <thead>\n",
       "    <tr style=\"text-align: right;\">\n",
       "      <th></th>\n",
       "      <th>_id</th>\n",
       "      <th>description</th>\n",
       "      <th>images</th>\n",
       "      <th>geo</th>\n",
       "      <th>annee</th>\n",
       "      <th>superficie</th>\n",
       "      <th>parking</th>\n",
       "      <th>revenus_annuels_bruts</th>\n",
       "      <th>taxes</th>\n",
       "      <th>unites</th>\n",
       "    </tr>\n",
       "  </thead>\n",
       "  <tbody>\n",
       "    <tr>\n",
       "      <th>0</th>\n",
       "      <td>19205127</td>\n",
       "      <td>C'est ici que vos recherches s'arrêtent!!! Vot...</td>\n",
       "      <td>[https://mspublic.centris.ca/media.ashx?id=ADD...</td>\n",
       "      <td>{'latitude': '46.9833982700', 'longitude': '-7...</td>\n",
       "      <td>2014</td>\n",
       "      <td>29 620 pc</td>\n",
       "      <td>Allée (2)</td>\n",
       "      <td>24 600 $</td>\n",
       "      <td>{'municipales': '3590', 'scolaires': '267'}</td>\n",
       "      <td>NaN</td>\n",
       "    </tr>\n",
       "  </tbody>\n",
       "</table>\n",
       "</div>"
      ],
      "text/plain": [
       "        _id                                        description  \\\n",
       "0  19205127  C'est ici que vos recherches s'arrêtent!!! Vot...   \n",
       "\n",
       "                                              images  \\\n",
       "0  [https://mspublic.centris.ca/media.ashx?id=ADD...   \n",
       "\n",
       "                                                 geo annee superficie  \\\n",
       "0  {'latitude': '46.9833982700', 'longitude': '-7...  2014  29 620 pc   \n",
       "\n",
       "     parking revenus_annuels_bruts  \\\n",
       "0  Allée (2)              24 600 $   \n",
       "\n",
       "                                         taxes unites  \n",
       "0  {'municipales': '3590', 'scolaires': '267'}    NaN  "
      ]
     },
     "execution_count": 6,
     "metadata": {},
     "output_type": "execute_result"
    }
   ],
   "source": [
    "df_properties_details.head(1)"
   ]
  },
  {
   "cell_type": "code",
   "execution_count": 7,
   "id": "04aca151-6bcc-4398-bfd8-4ddf2f8a5e43",
   "metadata": {},
   "outputs": [
    {
     "data": {
      "text/plain": [
       "0"
      ]
     },
     "execution_count": 7,
     "metadata": {},
     "output_type": "execute_result"
    }
   ],
   "source": [
    "## Somme des duplicatats dans les propriétés\n",
    "\n",
    "df_properties.duplicated(subset=['_id']).sum()"
   ]
  },
  {
   "cell_type": "code",
   "execution_count": 8,
   "id": "ae567e7c-932d-43c0-86ce-04de3cc4ccb2",
   "metadata": {},
   "outputs": [
    {
     "data": {
      "text/plain": [
       "0"
      ]
     },
     "execution_count": 8,
     "metadata": {},
     "output_type": "execute_result"
    }
   ],
   "source": [
    "## Somme des duplicatats dans les détails de propriétés\n",
    "\n",
    "df_properties_details.duplicated(subset=['_id']).sum()"
   ]
  },
  {
   "cell_type": "code",
   "execution_count": 9,
   "id": "8ac814e7-ce15-4319-8280-a65409a0617f",
   "metadata": {},
   "outputs": [
    {
     "data": {
      "text/plain": [
       "0       19205127\n",
       "1       16846441\n",
       "2       18535427\n",
       "3       24303612\n",
       "4       19680893\n",
       "          ...   \n",
       "4340    20858282\n",
       "4341     9565394\n",
       "4342    17124668\n",
       "4343    20306961\n",
       "4344    18138221\n",
       "Name: _id, Length: 4345, dtype: object"
      ]
     },
     "execution_count": 9,
     "metadata": {},
     "output_type": "execute_result"
    }
   ],
   "source": [
    "df_properties['_id']"
   ]
  },
  {
   "cell_type": "code",
   "execution_count": 10,
   "id": "ffc52cbf-08ec-481b-b641-50042f7b720c",
   "metadata": {},
   "outputs": [],
   "source": [
    "df_properties_details_with_summaries = df_properties_details[df_properties_details._id.isin(df_properties['_id'])]"
   ]
  },
  {
   "cell_type": "code",
   "execution_count": 11,
   "id": "6c61432f-e3e1-4cf9-8d2d-6fad08710c6b",
   "metadata": {},
   "outputs": [
    {
     "data": {
      "text/plain": [
       "4329"
      ]
     },
     "execution_count": 11,
     "metadata": {},
     "output_type": "execute_result"
    }
   ],
   "source": [
    "len(df_properties_details_with_summaries)\n"
   ]
  },
  {
   "cell_type": "code",
   "execution_count": 12,
   "id": "7160bd1d-1796-4f18-b0d5-fb1551da5ff5",
   "metadata": {},
   "outputs": [
    {
     "data": {
      "text/plain": [
       "4345"
      ]
     },
     "execution_count": 12,
     "metadata": {},
     "output_type": "execute_result"
    }
   ],
   "source": []
  },
  {
   "cell_type": "code",
   "execution_count": null,
   "id": "d520eded-59d1-448a-a7fc-6277ca3b8553",
   "metadata": {},
   "outputs": [],
   "source": []
  }
 ],
 "metadata": {
  "kernelspec": {
   "display_name": "Python 3 (ipykernel)",
   "language": "python",
   "name": "python3"
  },
  "language_info": {
   "codemirror_mode": {
    "name": "ipython",
    "version": 3
   },
   "file_extension": ".py",
   "mimetype": "text/x-python",
   "name": "python",
   "nbconvert_exporter": "python",
   "pygments_lexer": "ipython3",
   "version": "3.9.13"
  }
 },
 "nbformat": 4,
 "nbformat_minor": 5
}
