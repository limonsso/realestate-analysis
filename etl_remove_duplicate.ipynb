{
 "cells": [
  {
   "cell_type": "code",
   "id": "initial_id",
   "metadata": {
    "collapsed": true,
    "ExecuteTime": {
     "end_time": "2024-08-20T23:06:15.039303Z",
     "start_time": "2024-08-20T23:06:14.031829Z"
    }
   },
   "source": [
    "from lib.db import read_mongodb_to_dataframe, rewrite_data\n",
    "import pandas as pd\n",
    "import matplotlib.pyplot as plt\n",
    "import seaborn as sns\n",
    "import numpy as np\n",
    "import plotly.express as px\n",
    "import lib.eda as eda\n",
    "from datetime import date"
   ],
   "outputs": [],
   "execution_count": 1
  },
  {
   "metadata": {
    "ExecuteTime": {
     "end_time": "2024-08-20T23:06:15.485587Z",
     "start_time": "2024-08-20T23:06:15.039846Z"
    }
   },
   "cell_type": "code",
   "source": [
    "properties_db = read_mongodb_to_dataframe('real_estate_db', 'properties', no_id=False)\n",
    "#properties_details_db = read_mongodb_to_dataframe('real_estate_db', 'properties_details', no_id=False)"
   ],
   "id": "e939401fa051876c",
   "outputs": [],
   "execution_count": 2
  },
  {
   "metadata": {
    "ExecuteTime": {
     "end_time": "2024-08-20T23:06:16.073614Z",
     "start_time": "2024-08-20T23:06:15.486259Z"
    }
   },
   "cell_type": "code",
   "source": [
    "# do backup\n",
    "properties_db.to_csv(f'./backup/properties_db_{date.today().strftime(\"%d%m%Y\")}.csv')"
   ],
   "id": "708c7bb5d0f6b7d2",
   "outputs": [],
   "execution_count": 3
  },
  {
   "metadata": {
    "ExecuteTime": {
     "end_time": "2024-08-20T23:06:16.142913Z",
     "start_time": "2024-08-20T23:06:16.074388Z"
    }
   },
   "cell_type": "code",
   "source": [
    "properties = properties_db.copy()\n",
    "properties['_id']=properties['_id'].apply(pd.to_numeric, errors='coerce')"
   ],
   "id": "148300aeb45508f3",
   "outputs": [],
   "execution_count": 4
  },
  {
   "metadata": {
    "ExecuteTime": {
     "end_time": "2024-08-20T23:06:16.669946Z",
     "start_time": "2024-08-20T23:06:16.143751Z"
    }
   },
   "cell_type": "code",
   "source": [
    "print(len(properties))\n",
    "duplicate_properties = properties.groupby('_id').filter(lambda x: len(x) > 1).sort_values('_id')\n",
    "print(len(duplicate_properties))\n",
    "#temp = temp[temp['_id'] == 9005330]"
   ],
   "id": "edd58d43773a4297",
   "outputs": [
    {
     "name": "stdout",
     "output_type": "stream",
     "text": [
      "51159\n",
      "0\n"
     ]
    }
   ],
   "execution_count": 5
  },
  {
   "metadata": {
    "ExecuteTime": {
     "end_time": "2024-08-20T23:06:16.678915Z",
     "start_time": "2024-08-20T23:06:16.670828Z"
    }
   },
   "cell_type": "code",
   "source": "duplicate_properties.head(20)",
   "id": "ddf618ff8180cdc",
   "outputs": [
    {
     "data": {
      "text/plain": [
       "Empty DataFrame\n",
       "Columns: [_id, , add_date, address, city, company, description, img_src, link, plex-revenue, price, type, update_at, vendue, revenu, surface, longitude, latitude, construction_year, municipal_taxes, school_taxes, unites, geolocation]\n",
       "Index: []\n",
       "\n",
       "[0 rows x 23 columns]"
      ],
      "text/html": [
       "<div>\n",
       "<style scoped>\n",
       "    .dataframe tbody tr th:only-of-type {\n",
       "        vertical-align: middle;\n",
       "    }\n",
       "\n",
       "    .dataframe tbody tr th {\n",
       "        vertical-align: top;\n",
       "    }\n",
       "\n",
       "    .dataframe thead th {\n",
       "        text-align: right;\n",
       "    }\n",
       "</style>\n",
       "<table border=\"1\" class=\"dataframe\">\n",
       "  <thead>\n",
       "    <tr style=\"text-align: right;\">\n",
       "      <th></th>\n",
       "      <th>_id</th>\n",
       "      <th></th>\n",
       "      <th>add_date</th>\n",
       "      <th>address</th>\n",
       "      <th>city</th>\n",
       "      <th>company</th>\n",
       "      <th>description</th>\n",
       "      <th>img_src</th>\n",
       "      <th>link</th>\n",
       "      <th>plex-revenue</th>\n",
       "      <th>...</th>\n",
       "      <th>vendue</th>\n",
       "      <th>revenu</th>\n",
       "      <th>surface</th>\n",
       "      <th>longitude</th>\n",
       "      <th>latitude</th>\n",
       "      <th>construction_year</th>\n",
       "      <th>municipal_taxes</th>\n",
       "      <th>school_taxes</th>\n",
       "      <th>unites</th>\n",
       "      <th>geolocation</th>\n",
       "    </tr>\n",
       "  </thead>\n",
       "  <tbody>\n",
       "  </tbody>\n",
       "</table>\n",
       "<p>0 rows × 23 columns</p>\n",
       "</div>"
      ]
     },
     "execution_count": 6,
     "metadata": {},
     "output_type": "execute_result"
    }
   ],
   "execution_count": 6
  },
  {
   "metadata": {
    "ExecuteTime": {
     "end_time": "2024-08-20T23:06:16.682720Z",
     "start_time": "2024-08-20T23:06:16.679803Z"
    }
   },
   "cell_type": "code",
   "source": "duplicate_properties.to_csv('duplicate_properties.csv')",
   "id": "89bf50e82756dbb6",
   "outputs": [],
   "execution_count": 7
  },
  {
   "metadata": {
    "ExecuteTime": {
     "end_time": "2024-08-20T23:06:16.687199Z",
     "start_time": "2024-08-20T23:06:16.683591Z"
    }
   },
   "cell_type": "code",
   "source": [
    "import math\n",
    "\n",
    "elt=None\n",
    "duplicate_properties_ok = []\n",
    "for i,row in duplicate_properties.iterrows():\n",
    "    change = False\n",
    "    if elt is not None:\n",
    "        if int(row['_id']) == int(elt['_id']):\n",
    "            is_old = len(row['update_at']) > len(elt['update_at'])\n",
    "            for key, value in row.items():\n",
    "                if elt[key] != value:\n",
    "                    if (isinstance(elt[key], str)\\\n",
    "                        or(key in ('surface','revenu','plex-revenue') and elt[key] is float and (math.isnan(elt[key])\\\n",
    "                            and value is float and not math.isnan(value)))\\\n",
    "                        or (key not in ('surface','revenu','plex-revenue')))\\\n",
    "                        and is_old:\n",
    "                        change = True \n",
    "                        elt[key] = value\n",
    "            change = True if len(duplicate_properties_ok) == 0 or elt not in duplicate_properties_ok else change\n",
    "            \n",
    "    if change:\n",
    "        elt.pop('')\n",
    "        elt['_id'] = int(elt['_id'])\n",
    "        duplicate_properties_ok.append(elt)\n",
    "    elt = row.to_dict()\n",
    "\n",
    "duplicate_properties_ok = pd.DataFrame(duplicate_properties_ok)\n",
    "                "
   ],
   "id": "c3507c51b70f80a4",
   "outputs": [],
   "execution_count": 8
  },
  {
   "metadata": {
    "ExecuteTime": {
     "end_time": "2024-08-20T23:06:16.689264Z",
     "start_time": "2024-08-20T23:06:16.687959Z"
    }
   },
   "cell_type": "code",
   "source": [
    "#temp_fix = temp_ar.groupby('_id').filter(lambda x: len(x) > 1).sort_values('_id')\n",
    "#print(len(temp_fix))"
   ],
   "id": "f93ab8064cc3892",
   "outputs": [],
   "execution_count": 9
  },
  {
   "metadata": {
    "ExecuteTime": {
     "end_time": "2024-08-20T23:06:16.693989Z",
     "start_time": "2024-08-20T23:06:16.692413Z"
    }
   },
   "cell_type": "code",
   "source": [
    "if len(duplicate_properties_ok) > 0:\n",
    "    duplicate_properties_ok_ids = duplicate_properties_ok['_id']"
   ],
   "id": "cdad2df358013aa",
   "outputs": [],
   "execution_count": 10
  },
  {
   "metadata": {
    "ExecuteTime": {
     "end_time": "2024-08-20T23:06:16.853787Z",
     "start_time": "2024-08-20T23:06:16.694825Z"
    }
   },
   "cell_type": "code",
   "source": "properties_with_id_str = properties_db[properties_db.apply(lambda x: isinstance(x['_id'], str), axis=1)].copy()",
   "id": "d27875d64c02b526",
   "outputs": [],
   "execution_count": 11
  },
  {
   "metadata": {
    "ExecuteTime": {
     "end_time": "2024-08-20T23:06:16.857218Z",
     "start_time": "2024-08-20T23:06:16.854591Z"
    }
   },
   "cell_type": "code",
   "source": "len(properties_with_id_str)",
   "id": "fb22ea4ab3a710f7",
   "outputs": [
    {
     "data": {
      "text/plain": [
       "0"
      ]
     },
     "execution_count": 12,
     "metadata": {},
     "output_type": "execute_result"
    }
   ],
   "execution_count": 12
  },
  {
   "metadata": {
    "ExecuteTime": {
     "end_time": "2024-08-20T23:06:16.860495Z",
     "start_time": "2024-08-20T23:06:16.858071Z"
    }
   },
   "cell_type": "code",
   "source": [
    "if len(duplicate_properties_ok) > 0 and len(properties_with_id_str) > 0:\n",
    "    properties_with_id_str['_id'] = properties_with_id_str['_id'].apply(pd.to_numeric, errors='coerce')\n",
    "    properties_with_id_str = properties_with_id_str[~properties_with_id_str['_id'].isin(duplicate_properties_ok_ids)] \n",
    "    properties_with_id_str = properties_with_id_str.drop(\"\", axis=1)"
   ],
   "id": "b82361a2d1fdfa17",
   "outputs": [],
   "execution_count": 13
  },
  {
   "metadata": {
    "ExecuteTime": {
     "end_time": "2024-08-20T23:06:16.864136Z",
     "start_time": "2024-08-20T23:06:16.861294Z"
    }
   },
   "cell_type": "code",
   "source": "duplicate_properties_ok.head(20)",
   "id": "2056b4c9cf06dd57",
   "outputs": [
    {
     "data": {
      "text/plain": [
       "Empty DataFrame\n",
       "Columns: []\n",
       "Index: []"
      ],
      "text/html": [
       "<div>\n",
       "<style scoped>\n",
       "    .dataframe tbody tr th:only-of-type {\n",
       "        vertical-align: middle;\n",
       "    }\n",
       "\n",
       "    .dataframe tbody tr th {\n",
       "        vertical-align: top;\n",
       "    }\n",
       "\n",
       "    .dataframe thead th {\n",
       "        text-align: right;\n",
       "    }\n",
       "</style>\n",
       "<table border=\"1\" class=\"dataframe\">\n",
       "  <thead>\n",
       "    <tr style=\"text-align: right;\">\n",
       "      <th></th>\n",
       "    </tr>\n",
       "  </thead>\n",
       "  <tbody>\n",
       "  </tbody>\n",
       "</table>\n",
       "</div>"
      ]
     },
     "execution_count": 14,
     "metadata": {},
     "output_type": "execute_result"
    }
   ],
   "execution_count": 14
  },
  {
   "metadata": {
    "ExecuteTime": {
     "end_time": "2024-08-20T23:06:16.869591Z",
     "start_time": "2024-08-20T23:06:16.864788Z"
    }
   },
   "cell_type": "code",
   "source": "properties_with_id_str.head(20)",
   "id": "6c8bc3b54c8b5cba",
   "outputs": [
    {
     "data": {
      "text/plain": [
       "Empty DataFrame\n",
       "Columns: [_id, , add_date, address, city, company, description, img_src, link, plex-revenue, price, type, update_at, vendue, revenu, surface, longitude, latitude, construction_year, municipal_taxes, school_taxes, unites, geolocation]\n",
       "Index: []\n",
       "\n",
       "[0 rows x 23 columns]"
      ],
      "text/html": [
       "<div>\n",
       "<style scoped>\n",
       "    .dataframe tbody tr th:only-of-type {\n",
       "        vertical-align: middle;\n",
       "    }\n",
       "\n",
       "    .dataframe tbody tr th {\n",
       "        vertical-align: top;\n",
       "    }\n",
       "\n",
       "    .dataframe thead th {\n",
       "        text-align: right;\n",
       "    }\n",
       "</style>\n",
       "<table border=\"1\" class=\"dataframe\">\n",
       "  <thead>\n",
       "    <tr style=\"text-align: right;\">\n",
       "      <th></th>\n",
       "      <th>_id</th>\n",
       "      <th></th>\n",
       "      <th>add_date</th>\n",
       "      <th>address</th>\n",
       "      <th>city</th>\n",
       "      <th>company</th>\n",
       "      <th>description</th>\n",
       "      <th>img_src</th>\n",
       "      <th>link</th>\n",
       "      <th>plex-revenue</th>\n",
       "      <th>...</th>\n",
       "      <th>vendue</th>\n",
       "      <th>revenu</th>\n",
       "      <th>surface</th>\n",
       "      <th>longitude</th>\n",
       "      <th>latitude</th>\n",
       "      <th>construction_year</th>\n",
       "      <th>municipal_taxes</th>\n",
       "      <th>school_taxes</th>\n",
       "      <th>unites</th>\n",
       "      <th>geolocation</th>\n",
       "    </tr>\n",
       "  </thead>\n",
       "  <tbody>\n",
       "  </tbody>\n",
       "</table>\n",
       "<p>0 rows × 23 columns</p>\n",
       "</div>"
      ]
     },
     "execution_count": 15,
     "metadata": {},
     "output_type": "execute_result"
    }
   ],
   "execution_count": 15
  },
  {
   "metadata": {
    "ExecuteTime": {
     "end_time": "2024-08-20T23:06:16.873896Z",
     "start_time": "2024-08-20T23:06:16.870513Z"
    }
   },
   "cell_type": "code",
   "source": "properties_to_rewrite= properties_with_id_str.to_dict('records') + duplicate_properties_ok.to_dict('records') ",
   "id": "58159b5ed2e4b523",
   "outputs": [],
   "execution_count": 16
  },
  {
   "metadata": {},
   "cell_type": "markdown",
   "source": [
    "import ast\n",
    "for p in properties_to_rewrite:\n",
    "    try:\n",
    "        if str(p['geolocation']) !='nan' and 'coordinates' in p['geolocation']:\n",
    "            geo = ast.literal_eval(p['geolocation'])\n",
    "            p['longitude'] = geo['coordinates'][0]\n",
    "            p['latitude'] =  geo['coordinates'][1]\n",
    "        p.pop('geolocation')\n",
    "    except Exception as e:\n",
    "        print(str(p['geolocation']))\n",
    "        print(f'{p['_id']} {e}')\n",
    "        break\n",
    "        "
   ],
   "id": "842c7a6c57bcd3fd"
  },
  {
   "metadata": {},
   "cell_type": "markdown",
   "source": [
    "if len(properties_to_rewrite) > 0:\n",
    "    pd.DataFrame(properties_to_rewrite).to_csv(f'properties_to_rewrite_{date.today().strftime(\"%d%m%Y\")}.csv')\n",
    "    rewrite_data(db='real_estate_db',collection='properties',data=properties_to_rewrite)"
   ],
   "id": "13196e8ef25bf909"
  },
  {
   "metadata": {},
   "cell_type": "markdown",
   "source": "properties_to_rewrite = pd.read_csv(f'properties_to_rewrite_{date.today().strftime(\"%d%m%Y\")}.csv').drop('Unnamed: 0', axis=1)#.to_dict('records')",
   "id": "362aa7417c341000"
  },
  {
   "metadata": {},
   "cell_type": "markdown",
   "source": [
    "select * from properties_to_rewrite\n",
    "where _id not in (select _id from properties_db)"
   ],
   "id": "a3d5d33726f732e7"
  }
 ],
 "metadata": {
  "kernelspec": {
   "display_name": "Python 3",
   "language": "python",
   "name": "python3"
  },
  "language_info": {
   "codemirror_mode": {
    "name": "ipython",
    "version": 2
   },
   "file_extension": ".py",
   "mimetype": "text/x-python",
   "name": "python",
   "nbconvert_exporter": "python",
   "pygments_lexer": "ipython2",
   "version": "2.7.6"
  }
 },
 "nbformat": 4,
 "nbformat_minor": 5
}
