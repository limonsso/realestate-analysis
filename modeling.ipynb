{
 "cells": [
  {
   "cell_type": "markdown",
   "id": "4db636f9",
   "metadata": {},
   "source": "#### Chargement des donnée"
  },
  {
   "metadata": {
    "ExecuteTime": {
     "end_time": "2024-08-20T23:09:11.225151Z",
     "start_time": "2024-08-20T23:09:10.933878Z"
    }
   },
   "cell_type": "code",
   "source": [
    "import numpy as np\n",
    "import pandas as pd\n",
    "from lib.db import read_mongodb_to_dataframe"
   ],
   "id": "fc413b7598f6e6c7",
   "outputs": [],
   "execution_count": 1
  },
  {
   "metadata": {
    "ExecuteTime": {
     "end_time": "2024-08-20T23:09:14.291451Z",
     "start_time": "2024-08-20T23:09:13.783140Z"
    }
   },
   "cell_type": "code",
   "source": "properties = read_mongodb_to_dataframe('real_estate_db', 'properties', no_id=False)",
   "id": "ce58983dc41fef1",
   "outputs": [],
   "execution_count": 2
  },
  {
   "cell_type": "markdown",
   "id": "3d8975cb",
   "metadata": {},
   "source": "##### Columns"
  },
  {
   "metadata": {
    "ExecuteTime": {
     "end_time": "2024-08-20T23:09:20.028440Z",
     "start_time": "2024-08-20T23:09:20.026319Z"
    }
   },
   "cell_type": "code",
   "source": [
    "for col in properties.columns:\n",
    "    print(col)"
   ],
   "id": "a5d6566a9043180a",
   "outputs": [
    {
     "name": "stdout",
     "output_type": "stream",
     "text": [
      "_id\n",
      "\n",
      "add_date\n",
      "address\n",
      "city\n",
      "company\n",
      "description\n",
      "img_src\n",
      "link\n",
      "plex-revenue\n",
      "price\n",
      "type\n",
      "update_at\n",
      "vendue\n",
      "revenu\n",
      "surface\n",
      "longitude\n",
      "latitude\n",
      "construction_year\n",
      "municipal_taxes\n",
      "school_taxes\n",
      "unites\n",
      "geolocation\n"
     ]
    }
   ],
   "execution_count": 3
  },
  {
   "cell_type": "markdown",
   "id": "728851de",
   "metadata": {},
   "source": [
    "##### Inspiration\n",
    "- Can we predict housing prices based on this data?\n",
    "- Which location contains the house with the highest prices?\n",
    "- What ar the correlation between house prices and other attributes?\n",
    "- What could be the trend behind housing prices?\n"
   ]
  },
  {
   "cell_type": "markdown",
   "id": "c9aa8266",
   "metadata": {},
   "source": [
    "#### Work plan \n",
    "\n",
    "1 - Clean Data \n",
    "\n",
    "2 - Building a Machine Learning Model / classification score Volume\n"
   ]
  },
  {
   "cell_type": "markdown",
   "id": "916add01",
   "metadata": {},
   "source": "##### Cleaning data\n"
  },
  {
   "metadata": {
    "ExecuteTime": {
     "end_time": "2024-08-20T23:09:31.652858Z",
     "start_time": "2024-08-20T23:09:31.637996Z"
    }
   },
   "cell_type": "code",
   "source": "properties.head(1)\n",
   "id": "14e86ab006caae98",
   "outputs": [
    {
     "data": {
      "text/plain": [
       "        _id                     add_date  \\\n",
       "0  13363515  2152.0  2022-03-06 00:00:00   \n",
       "\n",
       "                                             address      city  company  \\\n",
       "0  {street=6926 - 6928, Avenue  Somerled, localit...  Montréal  Centris   \n",
       "\n",
       "                                         description  \\\n",
       "0  Duplex à vendre à Montréal (Côte-des-Neiges/No...   \n",
       "\n",
       "                                             img_src  \\\n",
       "0  https://mspublic.centris.ca/media.ashx?id=ADDD...   \n",
       "\n",
       "                                                link  \\\n",
       "0  https://www.centris.ca/fr/duplex~a-vendre~mont...   \n",
       "\n",
       "                 plex-revenue  ...  vendue revenu surface  longitude  \\\n",
       "0  Rev. bruts pot. : 26 100 $  ...    True    NaN     NaN        NaN   \n",
       "\n",
       "   latitude  construction_year  municipal_taxes  school_taxes  unites  \\\n",
       "0       NaN                NaN              NaN           NaN     NaN   \n",
       "\n",
       "   geolocation  \n",
       "0          NaN  \n",
       "\n",
       "[1 rows x 23 columns]"
      ],
      "text/html": [
       "<div>\n",
       "<style scoped>\n",
       "    .dataframe tbody tr th:only-of-type {\n",
       "        vertical-align: middle;\n",
       "    }\n",
       "\n",
       "    .dataframe tbody tr th {\n",
       "        vertical-align: top;\n",
       "    }\n",
       "\n",
       "    .dataframe thead th {\n",
       "        text-align: right;\n",
       "    }\n",
       "</style>\n",
       "<table border=\"1\" class=\"dataframe\">\n",
       "  <thead>\n",
       "    <tr style=\"text-align: right;\">\n",
       "      <th></th>\n",
       "      <th>_id</th>\n",
       "      <th></th>\n",
       "      <th>add_date</th>\n",
       "      <th>address</th>\n",
       "      <th>city</th>\n",
       "      <th>company</th>\n",
       "      <th>description</th>\n",
       "      <th>img_src</th>\n",
       "      <th>link</th>\n",
       "      <th>plex-revenue</th>\n",
       "      <th>...</th>\n",
       "      <th>vendue</th>\n",
       "      <th>revenu</th>\n",
       "      <th>surface</th>\n",
       "      <th>longitude</th>\n",
       "      <th>latitude</th>\n",
       "      <th>construction_year</th>\n",
       "      <th>municipal_taxes</th>\n",
       "      <th>school_taxes</th>\n",
       "      <th>unites</th>\n",
       "      <th>geolocation</th>\n",
       "    </tr>\n",
       "  </thead>\n",
       "  <tbody>\n",
       "    <tr>\n",
       "      <th>0</th>\n",
       "      <td>13363515</td>\n",
       "      <td>2152.0</td>\n",
       "      <td>2022-03-06 00:00:00</td>\n",
       "      <td>{street=6926 - 6928, Avenue  Somerled, localit...</td>\n",
       "      <td>Montréal</td>\n",
       "      <td>Centris</td>\n",
       "      <td>Duplex à vendre à Montréal (Côte-des-Neiges/No...</td>\n",
       "      <td>https://mspublic.centris.ca/media.ashx?id=ADDD...</td>\n",
       "      <td>https://www.centris.ca/fr/duplex~a-vendre~mont...</td>\n",
       "      <td>Rev. bruts pot. : 26 100 $</td>\n",
       "      <td>...</td>\n",
       "      <td>True</td>\n",
       "      <td>NaN</td>\n",
       "      <td>NaN</td>\n",
       "      <td>NaN</td>\n",
       "      <td>NaN</td>\n",
       "      <td>NaN</td>\n",
       "      <td>NaN</td>\n",
       "      <td>NaN</td>\n",
       "      <td>NaN</td>\n",
       "      <td>NaN</td>\n",
       "    </tr>\n",
       "  </tbody>\n",
       "</table>\n",
       "<p>1 rows × 23 columns</p>\n",
       "</div>"
      ]
     },
     "execution_count": 4,
     "metadata": {},
     "output_type": "execute_result"
    }
   ],
   "execution_count": 4
  },
  {
   "metadata": {},
   "cell_type": "code",
   "outputs": [],
   "execution_count": null,
   "source": "df_base = properties",
   "id": "7956cccfc862a337"
  },
  {
   "cell_type": "markdown",
   "id": "a641fe15",
   "metadata": {},
   "source": ""
  },
  {
   "metadata": {},
   "cell_type": "markdown",
   "source": "#### manage missing value\n",
   "id": "b26ebbfa7bd29f37"
  },
  {
   "cell_type": "code",
   "id": "f6c5e343",
   "metadata": {
    "ExecuteTime": {
     "end_time": "2024-07-05T02:21:04.304067Z",
     "start_time": "2024-07-05T02:21:04.296182Z"
    }
   },
   "source": [
    "# looking the shape DataSet\n",
    "df_base.shape"
   ],
   "outputs": [
    {
     "ename": "NameError",
     "evalue": "name 'df_base' is not defined",
     "output_type": "error",
     "traceback": [
      "\u001B[0;31m---------------------------------------------------------------------------\u001B[0m",
      "\u001B[0;31mNameError\u001B[0m                                 Traceback (most recent call last)",
      "Cell \u001B[0;32mIn[26], line 2\u001B[0m\n\u001B[1;32m      1\u001B[0m \u001B[38;5;66;03m# looking the shape DataSet\u001B[39;00m\n\u001B[0;32m----> 2\u001B[0m \u001B[43mdf_base\u001B[49m\u001B[38;5;241m.\u001B[39mshape\n",
      "\u001B[0;31mNameError\u001B[0m: name 'df_base' is not defined"
     ]
    }
   ],
   "execution_count": 26
  },
  {
   "cell_type": "code",
   "id": "53a2608e",
   "metadata": {
    "ExecuteTime": {
     "end_time": "2024-07-05T02:21:04.473661Z",
     "start_time": "2024-07-05T02:21:04.465111Z"
    }
   },
   "source": [
    "#Checking the dtypes of all the columns\n",
    "df_base.info()"
   ],
   "outputs": [
    {
     "ename": "NameError",
     "evalue": "name 'df_base' is not defined",
     "output_type": "error",
     "traceback": [
      "\u001B[0;31m---------------------------------------------------------------------------\u001B[0m",
      "\u001B[0;31mNameError\u001B[0m                                 Traceback (most recent call last)",
      "Cell \u001B[0;32mIn[27], line 2\u001B[0m\n\u001B[1;32m      1\u001B[0m \u001B[38;5;66;03m#Checking the dtypes of all the columns\u001B[39;00m\n\u001B[0;32m----> 2\u001B[0m \u001B[43mdf_base\u001B[49m\u001B[38;5;241m.\u001B[39minfo()\n",
      "\u001B[0;31mNameError\u001B[0m: name 'df_base' is not defined"
     ]
    }
   ],
   "execution_count": 27
  },
  {
   "cell_type": "markdown",
   "id": "8095d6b7",
   "metadata": {},
   "source": [
    "* We need change Datatype column"
   ]
  },
  {
   "metadata": {},
   "cell_type": "markdown",
   "source": "",
   "id": "6565d89f1ba1dbe1"
  },
  {
   "cell_type": "code",
   "id": "3ba5379c",
   "metadata": {
    "ExecuteTime": {
     "end_time": "2024-07-05T02:21:04.531484Z",
     "start_time": "2024-07-05T02:21:04.523492Z"
    }
   },
   "source": [
    "df_base['add_date'] = pd.to_datetime(df_base['add_date'])\n",
    "df_base['year'] = pd.to_numeric(df_base['add_date'])"
   ],
   "outputs": [
    {
     "ename": "NameError",
     "evalue": "name 'df_base' is not defined",
     "output_type": "error",
     "traceback": [
      "\u001B[0;31m---------------------------------------------------------------------------\u001B[0m",
      "\u001B[0;31mNameError\u001B[0m                                 Traceback (most recent call last)",
      "Cell \u001B[0;32mIn[28], line 1\u001B[0m\n\u001B[0;32m----> 1\u001B[0m df_base[\u001B[38;5;124m'\u001B[39m\u001B[38;5;124madd_date\u001B[39m\u001B[38;5;124m'\u001B[39m] \u001B[38;5;241m=\u001B[39m pd\u001B[38;5;241m.\u001B[39mto_datetime(\u001B[43mdf_base\u001B[49m[\u001B[38;5;124m'\u001B[39m\u001B[38;5;124madd_date\u001B[39m\u001B[38;5;124m'\u001B[39m])\n\u001B[1;32m      2\u001B[0m df_base[\u001B[38;5;124m'\u001B[39m\u001B[38;5;124myear\u001B[39m\u001B[38;5;124m'\u001B[39m] \u001B[38;5;241m=\u001B[39m pd\u001B[38;5;241m.\u001B[39mto_numeric(df_base[\u001B[38;5;124m'\u001B[39m\u001B[38;5;124madd_date\u001B[39m\u001B[38;5;124m'\u001B[39m])\n",
      "\u001B[0;31mNameError\u001B[0m: name 'df_base' is not defined"
     ]
    }
   ],
   "execution_count": 28
  },
  {
   "cell_type": "code",
   "id": "459b8f2f",
   "metadata": {
    "ExecuteTime": {
     "end_time": "2024-07-05T02:21:04.582273Z",
     "start_time": "2024-07-05T02:21:04.568292Z"
    }
   },
   "source": [
    "df_base.info()"
   ],
   "outputs": [
    {
     "ename": "NameError",
     "evalue": "name 'df_base' is not defined",
     "output_type": "error",
     "traceback": [
      "\u001B[0;31m---------------------------------------------------------------------------\u001B[0m",
      "\u001B[0;31mNameError\u001B[0m                                 Traceback (most recent call last)",
      "Cell \u001B[0;32mIn[29], line 1\u001B[0m\n\u001B[0;32m----> 1\u001B[0m \u001B[43mdf_base\u001B[49m\u001B[38;5;241m.\u001B[39minfo()\n",
      "\u001B[0;31mNameError\u001B[0m: name 'df_base' is not defined"
     ]
    }
   ],
   "execution_count": 29
  },
  {
   "cell_type": "code",
   "id": "3d75f104",
   "metadata": {
    "ExecuteTime": {
     "end_time": "2024-07-05T02:21:04.610927Z",
     "start_time": "2024-07-05T02:21:04.602077Z"
    }
   },
   "source": [
    "# missing value\n",
    "\n",
    "df_base.isnull().sum()"
   ],
   "outputs": [
    {
     "ename": "NameError",
     "evalue": "name 'df_base' is not defined",
     "output_type": "error",
     "traceback": [
      "\u001B[0;31m---------------------------------------------------------------------------\u001B[0m",
      "\u001B[0;31mNameError\u001B[0m                                 Traceback (most recent call last)",
      "Cell \u001B[0;32mIn[30], line 3\u001B[0m\n\u001B[1;32m      1\u001B[0m \u001B[38;5;66;03m# missing value\u001B[39;00m\n\u001B[0;32m----> 3\u001B[0m \u001B[43mdf_base\u001B[49m\u001B[38;5;241m.\u001B[39misnull()\u001B[38;5;241m.\u001B[39msum()\n",
      "\u001B[0;31mNameError\u001B[0m: name 'df_base' is not defined"
     ]
    }
   ],
   "execution_count": 30
  },
  {
   "cell_type": "markdown",
   "id": "d94e015b",
   "metadata": {},
   "source": [
    "* We have a lot of missing value"
   ]
  },
  {
   "cell_type": "code",
   "id": "82d45a09",
   "metadata": {
    "ExecuteTime": {
     "end_time": "2024-07-05T02:21:04.668759Z",
     "start_time": "2024-07-05T02:21:04.660986Z"
    }
   },
   "source": [
    "# check if any duplicate value\n",
    "\n",
    "df_base.duplicated(subset=['id']).sum()"
   ],
   "outputs": [
    {
     "ename": "NameError",
     "evalue": "name 'df_base' is not defined",
     "output_type": "error",
     "traceback": [
      "\u001B[0;31m---------------------------------------------------------------------------\u001B[0m",
      "\u001B[0;31mNameError\u001B[0m                                 Traceback (most recent call last)",
      "Cell \u001B[0;32mIn[31], line 3\u001B[0m\n\u001B[1;32m      1\u001B[0m \u001B[38;5;66;03m# check if any duplicate value\u001B[39;00m\n\u001B[0;32m----> 3\u001B[0m \u001B[43mdf_base\u001B[49m\u001B[38;5;241m.\u001B[39mduplicated(subset\u001B[38;5;241m=\u001B[39m[\u001B[38;5;124m'\u001B[39m\u001B[38;5;124mid\u001B[39m\u001B[38;5;124m'\u001B[39m])\u001B[38;5;241m.\u001B[39msum()\n",
      "\u001B[0;31mNameError\u001B[0m: name 'df_base' is not defined"
     ]
    }
   ],
   "execution_count": 31
  },
  {
   "cell_type": "markdown",
   "id": "9870c3cd",
   "metadata": {},
   "source": [
    "* We don't have duplicated"
   ]
  },
  {
   "cell_type": "code",
   "id": "33e572b3",
   "metadata": {
    "ExecuteTime": {
     "end_time": "2024-07-05T02:21:04.761025Z",
     "start_time": "2024-07-05T02:21:04.751167Z"
    }
   },
   "source": [
    "import sweetviz as sv\n",
    "print(\"SweetViz Version : {}\".format(sv.__version__))\n",
    "report = sv.analyze(df_base, target_feat='price')"
   ],
   "outputs": [
    {
     "ename": "ModuleNotFoundError",
     "evalue": "No module named 'sweetviz'",
     "output_type": "error",
     "traceback": [
      "\u001B[0;31m---------------------------------------------------------------------------\u001B[0m",
      "\u001B[0;31mModuleNotFoundError\u001B[0m                       Traceback (most recent call last)",
      "Cell \u001B[0;32mIn[32], line 1\u001B[0m\n\u001B[0;32m----> 1\u001B[0m \u001B[38;5;28;01mimport\u001B[39;00m \u001B[38;5;21;01msweetviz\u001B[39;00m \u001B[38;5;28;01mas\u001B[39;00m \u001B[38;5;21;01msv\u001B[39;00m\n\u001B[1;32m      2\u001B[0m \u001B[38;5;28mprint\u001B[39m(\u001B[38;5;124m\"\u001B[39m\u001B[38;5;124mSweetViz Version : \u001B[39m\u001B[38;5;132;01m{}\u001B[39;00m\u001B[38;5;124m\"\u001B[39m\u001B[38;5;241m.\u001B[39mformat(sv\u001B[38;5;241m.\u001B[39m__version__))\n\u001B[1;32m      3\u001B[0m report \u001B[38;5;241m=\u001B[39m sv\u001B[38;5;241m.\u001B[39manalyze(df_base, target_feat\u001B[38;5;241m=\u001B[39m\u001B[38;5;124m'\u001B[39m\u001B[38;5;124mprice\u001B[39m\u001B[38;5;124m'\u001B[39m)\n",
      "\u001B[0;31mModuleNotFoundError\u001B[0m: No module named 'sweetviz'"
     ]
    }
   ],
   "execution_count": 32
  },
  {
   "cell_type": "code",
   "id": "99f14cde",
   "metadata": {
    "ExecuteTime": {
     "end_time": "2024-07-05T02:21:04.891125Z",
     "start_time": "2024-07-05T02:21:04.883553Z"
    }
   },
   "source": [
    "\n",
    "# show the report in a form of an HTML file\n",
    "report.show_html('Report.html')"
   ],
   "outputs": [
    {
     "ename": "NameError",
     "evalue": "name 'report' is not defined",
     "output_type": "error",
     "traceback": [
      "\u001B[0;31m---------------------------------------------------------------------------\u001B[0m",
      "\u001B[0;31mNameError\u001B[0m                                 Traceback (most recent call last)",
      "Cell \u001B[0;32mIn[33], line 2\u001B[0m\n\u001B[1;32m      1\u001B[0m \u001B[38;5;66;03m# show the report in a form of an HTML file\u001B[39;00m\n\u001B[0;32m----> 2\u001B[0m \u001B[43mreport\u001B[49m\u001B[38;5;241m.\u001B[39mshow_html(\u001B[38;5;124m'\u001B[39m\u001B[38;5;124mReport.html\u001B[39m\u001B[38;5;124m'\u001B[39m)\n",
      "\u001B[0;31mNameError\u001B[0m: name 'report' is not defined"
     ]
    }
   ],
   "execution_count": 33
  }
 ],
 "metadata": {
  "kernelspec": {
   "display_name": "Python 3 (ipykernel)",
   "language": "python",
   "name": "python3"
  },
  "language_info": {
   "codemirror_mode": {
    "name": "ipython",
    "version": 3
   },
   "file_extension": ".py",
   "mimetype": "text/x-python",
   "name": "python",
   "nbconvert_exporter": "python",
   "pygments_lexer": "ipython3",
   "version": "3.12.2"
  },
  "vscode": {
   "interpreter": {
    "hash": "31f2aee4e71d21fbe5cf8b01ff0e069b9275f58929596ceb00d14d90e3e16cd6"
   }
  }
 },
 "nbformat": 4,
 "nbformat_minor": 5
}
